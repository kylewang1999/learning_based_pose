{
 "cells": [
  {
   "cell_type": "markdown",
   "metadata": {},
   "source": [
    "# 3.2 Use PVN3D on Pose Estimation Dataset."
   ]
  },
  {
   "cell_type": "markdown",
   "metadata": {},
   "source": [
    "## TODO 1:\n",
    "- [X] Down sample image\n",
    "- [X] Fix PSPNet padding: output always have the same size as input (120,160 works)\n",
    "- [ ] Down sample point cloud: Project pcd to original image to get corresponding pixel.\n",
    "\n",
    "\n",
    "## TODO 2:\n",
    "- [ ] Make sure PSP Trains\n",
    "- [ ] Make sure Pointnet Trains\n",
    "- [ ] Make sure PVN3D Trains\n",
    "- [ ] Make sure Loss is Right"
   ]
  },
  {
   "cell_type": "code",
   "execution_count": 1,
   "metadata": {},
   "outputs": [],
   "source": [
    "import warnings\n",
    "warnings.filterwarnings(\"ignore\")\n",
    "\n",
    "from utils.utils_data import *\n",
    "from lib.pvn3d import *\n",
    "import logging\n",
    "from datetime import datetime\n",
    "\n",
    "checkpoint = None\n",
    "\n",
    "device = torch.device('cuda' if torch.cuda.is_available() else 'cpu')\n",
    "# device = torch.device('cpu')\n",
    "# H, W = 360, 640     # Image height and width\n",
    "H, W = 120, 160\n",
    "transforms = {\n",
    "    # 'rgb'  : Compose([Resize((H, W)), RandomHorizontalFlip(), ColorJitter()]),\n",
    "    'rgb'  : Compose([Resize((H, W))]),\n",
    "    'depth': Compose([Resize((H, W))]),\n",
    "    'label': Compose([Resize((H, W))])\n",
    "}\n",
    "p = {\n",
    "    \"device\":device,                    \n",
    "    'bz': 2, 'shuffle': False, 'num_workers':1,   # For loader TODO: Modify this\n",
    "    'objects': 82, 'keypoints': 16, 'samplepoints': H*W,    # For PVN3D model\n",
    "    \"epochs\": 100,  \"lr\": 1e-5, 'decay': 0,         # 2. For learning\n",
    "    \"scale\":0.5,    \"amp\": False,                 # 3. Grad scaling\n",
    "    \"checkpoint\": None\n",
    "}\n",
    "\n",
    "# 1. Initialize Network and Dataloader\n",
    "model = PVN3D(\n",
    "    num_classes=p['objects'], pcd_input_c=3, num_kps=16, num_points=H*W\n",
    ")\n",
    "model.train()\n",
    "loader_train = get_loader(SegDataset(split_name='val_tiny', transforms=transforms, one_hot_label=False, N_samples=H*W), params=p)\n",
    "\n",
    "\n",
    "''' ===== Logging ===== '''\n",
    "with open('./training_data/objects_present.pickle', 'rb') as f:\n",
    "    OBJECTS = list(pickle.load(f))  # [(i_d1, name_1), ..., (id_n, name_n)]\n",
    "logging.basicConfig(level=logging.INFO, format='%(levelname)s: %(message)s')\n",
    "logging.info(f'Using device {device}')\n",
    "logging.info(f'There are [{len(OBJECTS)}] objects in total')   # 23 objects\n",
    "logging.info(f'Network:\\n'\n",
    "                f'\\t{model.num_kps}     number of keypoints\\n'\n",
    "                f'\\t{model.num_points}  number of sample points\\n'\n",
    "                f'\\t{model.pcd_input_c} number of pcd augment channels\\n'\n",
    "                f'\\t{model.num_classes} output channels (classes)\\n')\n",
    "if checkpoint:\n",
    "    model.load_state_dict(torch.load(checkpoint))\n",
    "    logging.info(f'Resuming from checkpoint {checkpoint}')\n",
    "''' ===== End Logging ===== '''\n",
    "\n",
    "\n",
    "# 2. Train model, save checkpoint\n",
    "now = datetime.now().strftime(\"%d-%H:%M\")\n",
    "epochs = p['epochs']\n",
    "try:        \n",
    "    train_pvn3d(model, loader_train, p)\n",
    "    fname = f'./exp/pvn3d_weight_epochs{epochs}_{now}.pt'\n",
    "    torch.save(model.state_dict(), fname)\n",
    "except KeyboardInterrupt:\n",
    "    fname = f'./exp/pvn3d_weight_INTERRUPTED_{now}_.pt'\n",
    "    torch.save(model.state_dict(), fname)\n"
   ]
  },
  {
   "cell_type": "markdown",
   "metadata": {},
   "source": [
    "## 1. Try PointNet++ from [torch-points3d](https://torch-points3d.readthedocs.io/en/latest/index.html)"
   ]
  }
 ],
 "metadata": {
  "kernelspec": {
   "display_name": "Python 3.7.15 ('pointnet2')",
   "language": "python",
   "name": "python3"
  },
  "language_info": {
   "codemirror_mode": {
    "name": "ipython",
    "version": 3
   },
   "file_extension": ".py",
   "mimetype": "text/x-python",
   "name": "python",
   "nbconvert_exporter": "python",
   "pygments_lexer": "ipython3",
   "version": "3.7.15"
  },
  "orig_nbformat": 4,
  "vscode": {
   "interpreter": {
    "hash": "9f4181ef52ede2d148980b4fc47c56590217126d27e90ba8d0d7b08625ef24ab"
   }
  }
 },
 "nbformat": 4,
 "nbformat_minor": 2
}
